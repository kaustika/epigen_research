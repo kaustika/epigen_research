{
 "cells": [
  {
   "cell_type": "markdown",
   "metadata": {},
   "source": [
    "# DMC: поиск дифференциально метилированных цитозинов"
   ]
  },
  {
   "cell_type": "markdown",
   "metadata": {},
   "source": [
    "Была выбрана библиотека bsseq - https://www.bioconductor.org/packages/devel/bioc/vignettes/bsseq/inst/doc/bsseq.html."
   ]
  },
  {
   "cell_type": "markdown",
   "metadata": {},
   "source": [
    "Я использую R такой версии:"
   ]
  },
  {
   "cell_type": "code",
   "execution_count": 4,
   "metadata": {},
   "outputs": [
    {
     "data": {
      "text/html": [
       "'R version 4.2.1 (2022-06-23 ucrt)'"
      ],
      "text/latex": [
       "'R version 4.2.1 (2022-06-23 ucrt)'"
      ],
      "text/markdown": [
       "'R version 4.2.1 (2022-06-23 ucrt)'"
      ],
      "text/plain": [
       "[1] \"R version 4.2.1 (2022-06-23 ucrt)\""
      ]
     },
     "metadata": {},
     "output_type": "display_data"
    }
   ],
   "source": [
    "R.Version()$version.string"
   ]
  },
  {
   "cell_type": "markdown",
   "metadata": {},
   "source": [
    "Использовать ту же версию может быть важно для одинаковой работы пакетов."
   ]
  },
  {
   "cell_type": "code",
   "execution_count": 2,
   "metadata": {},
   "outputs": [],
   "source": [
    "library(bsseq)"
   ]
  },
  {
   "cell_type": "markdown",
   "metadata": {},
   "source": [
    "Сделаем рабочей директорию с cov-файлами, которые получили в результате работы Bismark:"
   ]
  },
  {
   "cell_type": "code",
   "execution_count": 5,
   "metadata": {},
   "outputs": [],
   "source": [
    "setwd(\"D:/current_work/POLY/НИР/bismark\")"
   ]
  },
  {
   "cell_type": "markdown",
   "metadata": {},
   "source": [
    "Работаем с данными бисульфитного секвенирования двух диких сортов и одного элитного сорта:"
   ]
  },
  {
   "cell_type": "markdown",
   "metadata": {},
   "source": [
    "| BS | WGS   | Accession name | Тип генотипа |\n",
    "| -- |:-----:|:--------------:|-------------:|\n",
    "| n1 | d_1   | TR83005        | Дикий вид, Kalkan_064 |\n",
    "| n3 | d_3   | TR83052        | Дикий вид , Derei_070 |\n",
    "| n4 | n_308 | ICCV96029      | Элитный сорт |\n"
   ]
  },
  {
   "cell_type": "markdown",
   "metadata": {},
   "source": [
    "Для каждого сорта имеем по три биологических репликата, что обозначается так: n<номер сорта>_<номер репликата>. То есть, n4_2 соответствует второму репликату сорта 4, который, как видим по табличке сверху, является элитным.\n",
    "\n",
    "Замечу, что постфикс _1 в названии выходных файлов Bismark не имеет смысловой нагрузки, такое имя было выбрано программой автоматически при обработке парных ридов."
   ]
  },
  {
   "cell_type": "markdown",
   "metadata": {},
   "source": [
    "Итак, для выявления дифференциальной метиляции нужно попарно сравнить репликаты первого дикого сорта(n1) c репликатами элитного(n4), а также репликаты второго дикого сорта(n1) c репликатами элитного(n4). Создаем такие группы для последующего анализа:"
   ]
  },
  {
   "cell_type": "markdown",
   "metadata": {},
   "source": [
    "TODO: возмножно, имело смысл сравнить и два диких сорта между собой, но пока это не сделано."
   ]
  },
  {
   "cell_type": "code",
   "execution_count": 6,
   "metadata": {},
   "outputs": [],
   "source": [
    "samples_1vs4 = c(\n",
    "    \"n1_1_1_bismark_bt2_pe.deduplicated.bismark.cov.gz\",\n",
    "    \"n1_2_1_bismark_bt2_pe.deduplicated.bismark.cov.gz\",\n",
    "    \"n1_3_1_bismark_bt2_pe.deduplicated.bismark.cov.gz\",\n",
    "    \"n4_1_1_bismark_bt2_pe.deduplicated.bismark.cov.gz\",\n",
    "    \"n4_2_1_bismark_bt2_pe.deduplicated.bismark.cov.gz\",\n",
    "    \"n4_3_1_bismark_bt2_pe.deduplicated.bismark.cov.gz\"\n",
    "    )\n",
    "samples_3vs4 = c(\n",
    "    \"n3_1_1_bismark_bt2_pe.deduplicated.bismark.cov.gz\",\n",
    "    \"n3_2_1_bismark_bt2_pe.deduplicated.bismark.cov.gz\",\n",
    "    \"n3_3_1_bismark_bt2_pe.deduplicated.bismark.cov.gz\",\n",
    "    \"n4_1_1_bismark_bt2_pe.deduplicated.bismark.cov.gz\",\n",
    "    \"n4_2_1_bismark_bt2_pe.deduplicated.bismark.cov.gz\",\n",
    "    \"n4_3_1_bismark_bt2_pe.deduplicated.bismark.cov.gz\"\n",
    "    )"
   ]
  },
  {
   "cell_type": "markdown",
   "metadata": {},
   "source": [
    "Многие операции выполняются долго, поэтому для более быстрого страрта при перезапуске jupyter notebook'а я сохраняю промежуточные результаты в бинарные файлы с расширением .rds, их можно потом прочитать прямо стурктуру данных языка R, аналогичную той, из которой они были созданы."
   ]
  },
  {
   "cell_type": "markdown",
   "metadata": {},
   "source": [
    "Здесь и далее клетки с долго выполняющимися операциями сделаны клетками типа Markdown, то есть код в них не выполняется, а отображается лишь как текст. Для удобства все промежуточные файлы лежат в репозитории. Если же Вы хотите перезаписать запомленные файлы, то сделайте клетку ниже клеткой типа Code (для этого нужно выделить клетку, нажав на боковую панель слева от нужной клетки, и нажать Y) и запустите её."
   ]
  },
  {
   "cell_type": "markdown",
   "metadata": {},
   "source": [
    "bsseq_1vs4 <- bsseq::read.bismark(samples_1vs4)\n",
    "bsseq_3vs4 <- bsseq::read.bismark(samples_3vs4)\n",
    "colnames(bsseq_1vs4) <- c('n1_1','n1_2','n1_3','n4_1', 'n4_2', 'n4_3')\n",
    "colnames(bsseq_3vs4) <- c('n3_1','n3_2','n3_3','n4_1', 'n4_2', 'n4_3')\n",
    "\n",
    "saveRDS(bsseq_1vs4, \"bsseq_1vs4.rds\")\n",
    "saveRDS(bsseq_3vs4, \"bsseq_3vs4.rds\")"
   ]
  },
  {
   "cell_type": "code",
   "execution_count": 7,
   "metadata": {},
   "outputs": [],
   "source": [
    "bsseq_1vs4 = readRDS(\"bsseq_1vs4.rds\")\n",
    "bsseq_3vs4 = readRDS(\"bsseq_3vs4.rds\")"
   ]
  },
  {
   "cell_type": "markdown",
   "metadata": {},
   "source": [
    "# Дифференциальное метилирование CpG сайтов, тест Фишера"
   ]
  },
  {
   "cell_type": "markdown",
   "metadata": {},
   "source": [
    "fisher_1vs4 <- fisherTests(bsseq_1vs4, c('n1_1','n1_2','n1_3'), c('n4_1', 'n4_2', 'n4_3'))\n",
    "fisher_3vs4 <- fisherTests(bsseq_3vs4, c('n3_1','n3_2','n3_3'), c('n4_1', 'n4_2', 'n4_3'))\n",
    "\n",
    "saveRDS(fisher_1vs4, \"fisher_1vs4.rds\")\n",
    "saveRDS(fisher_3vs4, \"fisher_3vs4.rds\")"
   ]
  },
  {
   "cell_type": "code",
   "execution_count": 8,
   "metadata": {},
   "outputs": [],
   "source": [
    "fisher_1vs4 = readRDS(\"fisher_1vs4.rds\")\n",
    "fisher_3vs4 = readRDS(\"fisher_3vs4.rds\")"
   ]
  },
  {
   "cell_type": "markdown",
   "metadata": {},
   "source": [
    "Сделаем поправку на множественное сравнение Бенджамини-Хохберга."
   ]
  },
  {
   "cell_type": "markdown",
   "metadata": {},
   "source": [
    "- Мы изменяем именно p-values с помощью процедуры BH, они становятся больше, их мы потом сравниваем с выбранным alpha, равным, скажем, 0.01.\n",
    "\n",
    "- Считаем, что соответствуют реальным сигналам те, что имеют BH-p-value < 0.01."
   ]
  },
  {
   "cell_type": "code",
   "execution_count": 13,
   "metadata": {},
   "outputs": [],
   "source": [
    "fisher_p_adj_1vs4 = p.adjust(fisher_1vs4$results[, 1], method = \"BH\", n = length(fisher_1vs4$results[, 1]))\n",
    "fisher_p_adj_3vs4 = p.adjust(fisher_3vs4$results[, 1], method = \"BH\", n = length(fisher_3vs4$results[, 1]))"
   ]
  },
  {
   "cell_type": "code",
   "execution_count": 16,
   "metadata": {},
   "outputs": [],
   "source": [
    "pval_filter_1vs4 <- fisher_p_adj_1vs4 < 0.01\n",
    "pval_filter_3vs4 <- fisher_p_adj_3vs4 < 0.01"
   ]
  },
  {
   "cell_type": "code",
   "execution_count": 17,
   "metadata": {},
   "outputs": [
    {
     "data": {
      "image/png": "[encoded data removed]",
      "text/plain": [
       "plot without title"
      ]
     },
     "metadata": {
      "image/png": {
       "height": 420,
       "width": 420
      }
     },
     "output_type": "display_data"
    },
    {
     "data": {
      "image/png": "[encoded data removed]",
      "text/plain": [
       "plot without title"
      ]
     },
     "metadata": {
      "image/png": {
       "height": 420,
       "width": 420
      }
     },
     "output_type": "display_data"
    }
   ],
   "source": [
    "plot(bsseq_1vs4@rowRanges@ranges@start[pval_filter_1vs4], -log10(fisher_1vs4$results[,1][pval_filter_1vs4]), xlab='position', ylab='-log10(pvalue)')\n",
    "abline(-log10(5e-8),0,lty='dashed')\n",
    "\n",
    "\n",
    "plot(bsseq_3vs4@rowRanges@ranges@start[pval_filter_3vs4], -log10(fisher_3vs4$results[,1][pval_filter_3vs4]), xlab='position', ylab='-log10(pvalue)')\n",
    "abline(-log10(5e-8),0,lty='dashed')"
   ]
  },
  {
   "cell_type": "markdown",
   "metadata": {},
   "source": [
    "Такие графики должны иметь смысл, так как координата start, судя по всему, сквозная, то есть был задан какой-то условный порядок на хромосомах/скаффолдах, и у нас не будет несколько значений -log(pval) для одной и той же позиции."
   ]
  },
  {
   "cell_type": "code",
   "execution_count": 22,
   "metadata": {},
   "outputs": [
    {
     "data": {
      "text/plain": [
       "GRanges object with 8558658 ranges and 0 metadata columns:\n",
       "              seqnames    ranges strand\n",
       "                 <Rle> <IRanges>  <Rle>\n",
       "        [1]        Ca1        21      *\n",
       "        [2]        Ca1        43      *\n",
       "        [3]        Ca1        44      *\n",
       "        [4]        Ca1       160      *\n",
       "        [5]        Ca1       161      *\n",
       "        ...        ...       ...    ...\n",
       "  [8558654] scaffold98    703693      *\n",
       "  [8558655] scaffold98    703716      *\n",
       "  [8558656] scaffold98    703717      *\n",
       "  [8558657] scaffold98    703730      *\n",
       "  [8558658] scaffold98    703731      *\n",
       "  -------\n",
       "  seqinfo: 62 sequences from an unspecified genome; no seqlengths"
      ]
     },
     "metadata": {},
     "output_type": "display_data"
    }
   ],
   "source": [
    "head(granges(bsseq_1vs4), n = 1000000000)"
   ]
  },
  {
   "cell_type": "markdown",
   "metadata": {},
   "source": [
    "# Подготовка файла для аннотации"
   ]
  },
  {
   "attachments": {},
   "cell_type": "markdown",
   "metadata": {},
   "source": [
    "Здесь нужно внимательно обращаться с координатами, что у меня вроде получилось сделать.\n",
    "\n",
    "- Bismark выдает нам по умолчанию файлы 1-based, у них отчет начинается с 1, а интервалы пишутся в виде [a, b], то есть с включением обеих границ.\n",
    "\n",
    "- Если мы хотим записать наши координаты дифференциально метилированных позиций в bed-файл для дальнейшего пересечения с аннотацией, то нужно придерживаться установленного соглашения об индексации в bed - используется 0-based и интервалы вида [a, b), то есть правая граница выкалывается.\n",
    "\n",
    "- Для этого мы переводим полученные позиции в 0-based индексацию.\n",
    "\n",
    "- bedtools при пересечении интервалов ориентируется на форматы пересекаемых файлов, поэтому это так важно.\n",
    "\n",
    "Про индексации я читала тут:\n",
    "- https://bedtools.readthedocs.io/en/latest/content/overview.html#bed-starts-are-zero-based-and-bed-ends-are-one-based\n",
    "- http://genome.ucsc.edu/FAQ/FAQtracks#tracks1\n",
    "- https://samtools.github.io/hts-specs/SAMv1.pdf"
   ]
  },
  {
   "cell_type": "code",
   "execution_count": 23,
   "metadata": {},
   "outputs": [],
   "source": [
    "# chromsome start stop\n",
    "# bismark gave us 1-based [] cov-files\n",
    "# we want to turn it into 0-based [) bed file\n",
    "chromStart = bsseq_1vs4@rowRanges@ranges@start[pval_filter_1vs4] - 1\n",
    "chromStop = bsseq_1vs4@rowRanges@ranges@start[pval_filter_1vs4]\n",
    "chrom = decode(bsseq_1vs4@rowRanges@seqnames)[pval_filter_1vs4]\n",
    "bed = data.frame(chrom, chromStart, chromStop)\n",
    "\n",
    "write.table(bed, \"1vs4_001.bed\", row.names = FALSE, col.names = FALSE, quote = FALSE, sep=\"\\t\")\n",
    "\n",
    "chromStart = bsseq_3vs4@rowRanges@ranges@start[pval_filter_3vs4] - 1\n",
    "chromStop = bsseq_3vs4@rowRanges@ranges@start[pval_filter_3vs4]\n",
    "chrom = decode(bsseq_3vs4@rowRanges@seqnames)[pval_filter_3vs4]\n",
    "bed = data.frame(chrom, chromStart, chromStop)\n",
    "\n",
    "write.table(bed, \"3vs4_001.bed\", row.names = FALSE, col.names = FALSE, quote = FALSE, sep=\"\\t\")\n",
    "\n"
   ]
  },
  {
   "cell_type": "markdown",
   "metadata": {},
   "source": [
    "Аннотация делалась на кластере.\n",
    "\n",
    "Итого, я считала, что соответствуют реальным сигналам те, что имеют BH-adjusted-p-value < 0.01, что позволяет отсеять для DMC ~8млн, оставив  ~405т значимых метилляций цитозинов, из которых ~200т пересекаются с транскрибируемыми участками из аннотации.\n",
    "\n",
    "Функциональная аннотация не производилась.\n"
   ]
  }
 ],
 "metadata": {
  "kernelspec": {
   "display_name": "R 4.2.1.1",
   "language": "R",
   "name": "r4.2.1.1"
  },
  "language_info": {
   "codemirror_mode": "r",
   "file_extension": ".r",
   "mimetype": "text/x-r-source",
   "name": "R",
   "pygments_lexer": "r",
   "version": "4.2.1"
  }
 },
 "nbformat": 4,
 "nbformat_minor": 4
}
