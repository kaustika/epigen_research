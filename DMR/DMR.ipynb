{
 "cells": [
  {
   "cell_type": "markdown",
   "metadata": {},
   "source": [
    "# DMR: поиск дифференциально метилированных регионов\n",
    "\n",
    "Была выбрана библиотека bsseq - https://www.bioconductor.org/packages/devel/bioc/vignettes/bsseq/inst/doc/bsseq.html.\n",
    "\n",
    "Я использую R такой версии:"
   ]
  },
  {
   "cell_type": "code",
   "execution_count": 1,
   "metadata": {},
   "outputs": [
    {
     "data": {
      "text/html": [
       "'R version 4.2.1 (2022-06-23 ucrt)'"
      ],
      "text/latex": [
       "'R version 4.2.1 (2022-06-23 ucrt)'"
      ],
      "text/markdown": [
       "'R version 4.2.1 (2022-06-23 ucrt)'"
      ],
      "text/plain": [
       "[1] \"R version 4.2.1 (2022-06-23 ucrt)\""
      ]
     },
     "metadata": {},
     "output_type": "display_data"
    }
   ],
   "source": [
    "R.Version()$version.string"
   ]
  },
  {
   "cell_type": "markdown",
   "metadata": {},
   "source": [
    "Использовать ту же версию может быть важно для одинаковой работы пакетов."
   ]
  },
  {
   "cell_type": "code",
   "execution_count": 4,
   "metadata": {},
   "outputs": [],
   "source": [
    "library(bsseq)"
   ]
  },
  {
   "cell_type": "markdown",
   "metadata": {},
   "source": [
    "Сделаем рабочей директорию с cov-файлами, которые получили в результате работы Bismark:"
   ]
  },
  {
   "cell_type": "code",
   "execution_count": 5,
   "metadata": {},
   "outputs": [],
   "source": [
    "setwd(\"D:/current_work/POLY/НИР/bismark\")"
   ]
  },
  {
   "cell_type": "markdown",
   "metadata": {},
   "source": [
    "Работаем с данными бисульфитного секвенирования двух диких сортов и одного элитного сорта:"
   ]
  },
  {
   "cell_type": "markdown",
   "metadata": {},
   "source": [
    "| BS | WGS   | Accession name | Тип генотипа |\n",
    "| -- |:-----:|:--------------:|-------------:|\n",
    "| n1 | d_1   | TR83005        | Дикий вид, Kalkan_064 |\n",
    "| n3 | d_3   | TR83052        | Дикий вид , Derei_070 |\n",
    "| n4 | n_308 | ICCV96029      | Элитный сорт |\n"
   ]
  },
  {
   "cell_type": "markdown",
   "metadata": {},
   "source": [
    "Для каждого сорта имеем по три биологических репликата, что обозначается так: n<номер сорта>_<номер репликата>. То есть, n4_2 соответствует второму репликату сорта 4, который, как видим по табличке сверху, является элитным.\n",
    "\n",
    "Замечу, что постфикс _1 в названии выходных файлов Bismark не имеет смысловой нагрузки, такое имя было выбрано программой автоматически при обработке парных ридов.\n",
    "\n",
    "Итак, для выявления дифференциальной метиляции нужно попарно сравнить репликаты первого дикого сорта(n1) c репликатами элитного(n4), а также репликаты второго дикого сорта(n1) c репликатами элитного(n4). Создаем такие группы для последующего анализа:\n",
    "\n",
    "TODO: возмножно, имело смысл сравнить и два диких сорта между собой, но пока это не сделано."
   ]
  },
  {
   "cell_type": "markdown",
   "metadata": {},
   "source": [
    "# Загружаем bismark.cov.gz данные о покрытии для обработки библиотекой bsseq"
   ]
  },
  {
   "cell_type": "code",
   "execution_count": 6,
   "metadata": {},
   "outputs": [],
   "source": [
    "samples_1vs4 = c(\n",
    "    \"n1_1_1_bismark_bt2_pe.deduplicated.bismark.cov.gz\",\n",
    "    \"n1_2_1_bismark_bt2_pe.deduplicated.bismark.cov.gz\",\n",
    "    \"n1_3_1_bismark_bt2_pe.deduplicated.bismark.cov.gz\",\n",
    "    \"n4_1_1_bismark_bt2_pe.deduplicated.bismark.cov.gz\",\n",
    "    \"n4_2_1_bismark_bt2_pe.deduplicated.bismark.cov.gz\",\n",
    "    \"n4_3_1_bismark_bt2_pe.deduplicated.bismark.cov.gz\"\n",
    "    )\n",
    "samples_3vs4 = c(\n",
    "    \"n3_1_1_bismark_bt2_pe.deduplicated.bismark.cov.gz\",\n",
    "    \"n3_2_1_bismark_bt2_pe.deduplicated.bismark.cov.gz\",\n",
    "    \"n3_3_1_bismark_bt2_pe.deduplicated.bismark.cov.gz\",\n",
    "    \"n4_1_1_bismark_bt2_pe.deduplicated.bismark.cov.gz\",\n",
    "    \"n4_2_1_bismark_bt2_pe.deduplicated.bismark.cov.gz\",\n",
    "    \"n4_3_1_bismark_bt2_pe.deduplicated.bismark.cov.gz\"\n",
    "    )"
   ]
  },
  {
   "cell_type": "markdown",
   "metadata": {},
   "source": [
    "Многие операции выполняются долго, поэтому для более быстрого страрта при перезапуске jupyter notebook'а я сохраняю промежуточные результаты в бинарные файлы с расширением .rds, их можно потом прочитать прямо стурктуру данных языка R, аналогичную той, из которой они были созданы.\n",
    "\n",
    "Здесь и далее код клеток с долго выполняющимися операциями закомментирован. Если Вы хотите перезаписать запомненные файлы, то раскомментируйте код, выделив и нажав ctrl+/, и запустите её."
   ]
  },
  {
   "cell_type": "code",
   "execution_count": 7,
   "metadata": {},
   "outputs": [],
   "source": [
    "# bsseq_1vs4 <- bsseq::read.bismark(samples_1vs4)\n",
    "# bsseq_3vs4 <- bsseq::read.bismark(samples_3vs4)\n",
    "# colnames(bsseq_1vs4) <- c('n1_1','n1_2','n1_3','n4_1', 'n4_2', 'n4_3')\n",
    "# colnames(bsseq_3vs4) <- c('n3_1','n3_2','n3_3','n4_1', 'n4_2', 'n4_3')\n",
    "\n",
    "# saveRDS(bsseq_1vs4, \"bsseq_1vs4.rds\")\n",
    "# saveRDS(bsseq_3vs4, \"bsseq_3vs4.rds\")"
   ]
  },
  {
   "cell_type": "code",
   "execution_count": 7,
   "metadata": {},
   "outputs": [],
   "source": [
    "bsseq_1vs4 = readRDS(\"bsseq_1vs4.rds\")\n",
    "bsseq_3vs4 = readRDS(\"bsseq_3vs4.rds\")"
   ]
  },
  {
   "cell_type": "markdown",
   "metadata": {},
   "source": [
    "# Поиск DMR с использованием сглаживающего алгоритма BSmooth в bsseq"
   ]
  },
  {
   "cell_type": "markdown",
   "metadata": {},
   "source": [
    "Я сделала этот этап, следуя гайду по пакету, однако, вчитавшись в описание поняла, что заданные по умолчанию параметры подобраны авторами для человеческого генома и могут дать некорректные результаты для геномов, далеких от людского.\n",
    "\n",
    "Полагаю, имеет смысл приглядеться к другим пакетам для поиска DMR, а не пытаться подобрать параметры самостоятельно, так как, пытаясь это сделать, я сталкнулась с трудностями при поиске рекомендаций для выбора.\n"
   ]
  },
  {
   "cell_type": "markdown",
   "metadata": {},
   "source": [
    "Проведем сглаживание:"
   ]
  },
  {
   "cell_type": "code",
   "execution_count": 9,
   "metadata": {},
   "outputs": [],
   "source": [
    "# smoothed_bsseq_1vs4 = BSmooth(bsseq_1vs4)\n",
    "# smoothed_bsseq_3vs4 = BSmooth(bsseq_3vs4)\n",
    "\n",
    "# saveRDS(smoothed_bsseq_1vs4, \"smoothed_bsseq_1vs4.rds\")\n",
    "# saveRDS(smoothed_bsseq_3vs4, \"smoothed_bsseq_3vs4.rds\")"
   ]
  },
  {
   "cell_type": "code",
   "execution_count": 8,
   "metadata": {},
   "outputs": [],
   "source": [
    "smoothed_bsseq_1vs4 = readRDS(\"smoothed_bsseq_1vs4.rds\")\n",
    "smoothed_bsseq_3vs4 = readRDS(\"smoothed_bsseq_3vs4.rds\")"
   ]
  },
  {
   "cell_type": "markdown",
   "metadata": {},
   "source": [
    "T-test на сглаженных данных:"
   ]
  },
  {
   "cell_type": "code",
   "execution_count": 12,
   "metadata": {},
   "outputs": [],
   "source": [
    "# t_test_smoothed_bsseq_1vs4 = BSmooth.tstat(smoothed_bsseq_1vs4,c('n1_1','n1_2','n1_3'), c('n4_1', 'n4_2', 'n4_3'))\n",
    "# t_test_smoothed_bsseq_3vs4 = BSmooth.tstat(smoothed_bsseq_3vs4,c('n3_1','n3_2','n3_3'), c('n4_1', 'n4_2', 'n4_3'))\n",
    "# stats_t_test_1vs4 = getStats(t_test_smoothed_bsseq_1vs4)\n",
    "# stats_t_test_3vs4 = getStats(t_test_smoothed_bsseq_3vs4)\n",
    "\n",
    "# saveRDS(t_test_smoothed_bsseq_1vs4, \"t_test_smoothed_bsseq_1vs4.rds\")\n",
    "# saveRDS(t_test_smoothed_bsseq_3vs4, \"t_test_smoothed_bsseq_3vs4.rds\")"
   ]
  },
  {
   "cell_type": "code",
   "execution_count": 9,
   "metadata": {},
   "outputs": [],
   "source": [
    "t_test_smoothed_bsseq_1vs4 = readRDS(\"t_test_smoothed_bsseq_1vs4.rds\")\n",
    "t_test_smoothed_bsseq_3vs4 = readRDS(\"t_test_smoothed_bsseq_3vs4.rds\")"
   ]
  },
  {
   "cell_type": "markdown",
   "metadata": {},
   "source": [
    "Найдем дифференциально метилированные регионы с помощью функции.\n",
    "\n",
    "-  dmrFinder(bstat, cutoff = NULL, qcutoff = c(0.025, 0.975), maxGap=300, stat = \"tstat.corrected\", verbose = TRUE)\n",
    "- Finds differentially methylated regions for whole genome bisulfite sequencing data. Essentially identifies regions of the genome where all methylation loci have an associated t-statistic that is beyond a (low, high) cutoff."
   ]
  },
  {
   "cell_type": "code",
   "execution_count": 14,
   "metadata": {},
   "outputs": [],
   "source": [
    "# DMRs_1vs4 = dmrFinder(t_test_smoothed_bsseq_1vs4,cutoff = 4)\n",
    "# DMRs_3vs4 = dmrFinder(t_test_smoothed_bsseq_3vs4,cutoff = 4)\n",
    "\n",
    "# saveRDS(DMRs_1vs4, \"DMRs_1vs4.rds\")\n",
    "# saveRDS(DMRs_3vs4, \"DMRs_3vs4.rds\")"
   ]
  },
  {
   "cell_type": "code",
   "execution_count": 10,
   "metadata": {},
   "outputs": [],
   "source": [
    "DMRs_1vs4 = readRDS(\"DMRs_1vs4.rds\")\n",
    "DMRs_3vs4 = readRDS(\"DMRs_3vs4.rds\")"
   ]
  },
  {
   "cell_type": "markdown",
   "metadata": {},
   "source": [
    "Note that post-processing of these DMRs are likely to be necessary, filtering for example for length (or number of loci).\n",
    "\n",
    "https://rdrr.io/bioc/bsseq/man/dmrFinder.html"
   ]
  },
  {
   "cell_type": "markdown",
   "metadata": {},
   "source": [
    "Гистограммы длин DMR:"
   ]
  },
  {
   "cell_type": "code",
   "execution_count": 11,
   "metadata": {},
   "outputs": [
    {
     "data": {
      "text/html": [
       "<table class=\"dataframe\">\n",
       "<caption>A data.frame: 6 × 16</caption>\n",
       "<thead>\n",
       "\t<tr><th></th><th scope=col>chr</th><th scope=col>start</th><th scope=col>end</th><th scope=col>idxStart</th><th scope=col>idxEnd</th><th scope=col>cluster</th><th scope=col>n</th><th scope=col>width</th><th scope=col>invdensity</th><th scope=col>areaStat</th><th scope=col>maxStat</th><th scope=col>meanDiff</th><th scope=col>group1.mean</th><th scope=col>group2.mean</th><th scope=col>tstat.sd</th><th scope=col>direction</th></tr>\n",
       "\t<tr><th></th><th scope=col>&lt;chr&gt;</th><th scope=col>&lt;int&gt;</th><th scope=col>&lt;int&gt;</th><th scope=col>&lt;int&gt;</th><th scope=col>&lt;int&gt;</th><th scope=col>&lt;dbl&gt;</th><th scope=col>&lt;int&gt;</th><th scope=col>&lt;dbl&gt;</th><th scope=col>&lt;dbl&gt;</th><th scope=col>&lt;dbl&gt;</th><th scope=col>&lt;dbl&gt;</th><th scope=col>&lt;dbl&gt;</th><th scope=col>&lt;dbl&gt;</th><th scope=col>&lt;dbl&gt;</th><th scope=col>&lt;dbl&gt;</th><th scope=col>&lt;chr&gt;</th></tr>\n",
       "</thead>\n",
       "<tbody>\n",
       "\t<tr><th scope=row>2237</th><td>Ca1        </td><td>34595038</td><td>34598761</td><td> 753013</td><td> 753206</td><td> 18716</td><td>194</td><td>3724</td><td>19.19588</td><td> 3353.933</td><td>22.164614</td><td> 0.7840990</td><td>0.933519062</td><td>0.14942002</td><td>0.04516914</td><td>hyper</td></tr>\n",
       "\t<tr><th scope=row>12360</th><td>Ca5        </td><td> 6379137</td><td> 6380809</td><td>3985957</td><td>3986077</td><td> 98628</td><td>121</td><td>1673</td><td>13.82645</td><td> 2504.850</td><td>21.681312</td><td> 0.9255879</td><td>0.937526660</td><td>0.01193871</td><td>0.04495044</td><td>hyper</td></tr>\n",
       "\t<tr><th scope=row>39939</th><td>Ca5        </td><td>22691330</td><td>22693397</td><td>4310404</td><td>4310563</td><td>106227</td><td>160</td><td>2068</td><td>12.92500</td><td>-2369.658</td><td>-4.047978</td><td>-0.7184994</td><td>0.006044261</td><td>0.72454366</td><td>0.04614278</td><td>hypo </td></tr>\n",
       "\t<tr><th scope=row>24213</th><td>scaffold336</td><td>  410461</td><td>  411270</td><td>8128917</td><td>8128982</td><td>197702</td><td> 66</td><td> 810</td><td>12.27273</td><td> 2198.696</td><td>37.302718</td><td> 0.8486916</td><td>0.892943291</td><td>0.04425167</td><td>0.02611128</td><td>hyper</td></tr>\n",
       "\t<tr><th scope=row>17681</th><td>Ca6        </td><td>32880928</td><td>32884968</td><td>5644767</td><td>5644929</td><td>137956</td><td>163</td><td>4041</td><td>24.79141</td><td> 2138.983</td><td>16.213877</td><td> 0.7328763</td><td>0.782158296</td><td>0.04928201</td><td>0.05093546</td><td>hyper</td></tr>\n",
       "\t<tr><th scope=row>2249</th><td>Ca1        </td><td>34860534</td><td>34863945</td><td> 759699</td><td> 759798</td><td> 18847</td><td>100</td><td>3412</td><td>34.12000</td><td> 2044.342</td><td>22.144673</td><td> 0.8791584</td><td>0.938785717</td><td>0.05962735</td><td>0.04186337</td><td>hyper</td></tr>\n",
       "</tbody>\n",
       "</table>\n"
      ],
      "text/latex": [
       "A data.frame: 6 × 16\n",
       "\\begin{tabular}{r|llllllllllllllll}\n",
       "  & chr & start & end & idxStart & idxEnd & cluster & n & width & invdensity & areaStat & maxStat & meanDiff & group1.mean & group2.mean & tstat.sd & direction\\\\\n",
       "  & <chr> & <int> & <int> & <int> & <int> & <dbl> & <int> & <dbl> & <dbl> & <dbl> & <dbl> & <dbl> & <dbl> & <dbl> & <dbl> & <chr>\\\\\n",
       "\\hline\n",
       "\t2237 & Ca1         & 34595038 & 34598761 &  753013 &  753206 &  18716 & 194 & 3724 & 19.19588 &  3353.933 & 22.164614 &  0.7840990 & 0.933519062 & 0.14942002 & 0.04516914 & hyper\\\\\n",
       "\t12360 & Ca5         &  6379137 &  6380809 & 3985957 & 3986077 &  98628 & 121 & 1673 & 13.82645 &  2504.850 & 21.681312 &  0.9255879 & 0.937526660 & 0.01193871 & 0.04495044 & hyper\\\\\n",
       "\t39939 & Ca5         & 22691330 & 22693397 & 4310404 & 4310563 & 106227 & 160 & 2068 & 12.92500 & -2369.658 & -4.047978 & -0.7184994 & 0.006044261 & 0.72454366 & 0.04614278 & hypo \\\\\n",
       "\t24213 & scaffold336 &   410461 &   411270 & 8128917 & 8128982 & 197702 &  66 &  810 & 12.27273 &  2198.696 & 37.302718 &  0.8486916 & 0.892943291 & 0.04425167 & 0.02611128 & hyper\\\\\n",
       "\t17681 & Ca6         & 32880928 & 32884968 & 5644767 & 5644929 & 137956 & 163 & 4041 & 24.79141 &  2138.983 & 16.213877 &  0.7328763 & 0.782158296 & 0.04928201 & 0.05093546 & hyper\\\\\n",
       "\t2249 & Ca1         & 34860534 & 34863945 &  759699 &  759798 &  18847 & 100 & 3412 & 34.12000 &  2044.342 & 22.144673 &  0.8791584 & 0.938785717 & 0.05962735 & 0.04186337 & hyper\\\\\n",
       "\\end{tabular}\n"
      ],
      "text/markdown": [
       "\n",
       "A data.frame: 6 × 16\n",
       "\n",
       "| <!--/--> | chr &lt;chr&gt; | start &lt;int&gt; | end &lt;int&gt; | idxStart &lt;int&gt; | idxEnd &lt;int&gt; | cluster &lt;dbl&gt; | n &lt;int&gt; | width &lt;dbl&gt; | invdensity &lt;dbl&gt; | areaStat &lt;dbl&gt; | maxStat &lt;dbl&gt; | meanDiff &lt;dbl&gt; | group1.mean &lt;dbl&gt; | group2.mean &lt;dbl&gt; | tstat.sd &lt;dbl&gt; | direction &lt;chr&gt; |\n",
       "|---|---|---|---|---|---|---|---|---|---|---|---|---|---|---|---|---|\n",
       "| 2237 | Ca1         | 34595038 | 34598761 |  753013 |  753206 |  18716 | 194 | 3724 | 19.19588 |  3353.933 | 22.164614 |  0.7840990 | 0.933519062 | 0.14942002 | 0.04516914 | hyper |\n",
       "| 12360 | Ca5         |  6379137 |  6380809 | 3985957 | 3986077 |  98628 | 121 | 1673 | 13.82645 |  2504.850 | 21.681312 |  0.9255879 | 0.937526660 | 0.01193871 | 0.04495044 | hyper |\n",
       "| 39939 | Ca5         | 22691330 | 22693397 | 4310404 | 4310563 | 106227 | 160 | 2068 | 12.92500 | -2369.658 | -4.047978 | -0.7184994 | 0.006044261 | 0.72454366 | 0.04614278 | hypo  |\n",
       "| 24213 | scaffold336 |   410461 |   411270 | 8128917 | 8128982 | 197702 |  66 |  810 | 12.27273 |  2198.696 | 37.302718 |  0.8486916 | 0.892943291 | 0.04425167 | 0.02611128 | hyper |\n",
       "| 17681 | Ca6         | 32880928 | 32884968 | 5644767 | 5644929 | 137956 | 163 | 4041 | 24.79141 |  2138.983 | 16.213877 |  0.7328763 | 0.782158296 | 0.04928201 | 0.05093546 | hyper |\n",
       "| 2249 | Ca1         | 34860534 | 34863945 |  759699 |  759798 |  18847 | 100 | 3412 | 34.12000 |  2044.342 | 22.144673 |  0.8791584 | 0.938785717 | 0.05962735 | 0.04186337 | hyper |\n",
       "\n"
      ],
      "text/plain": [
       "      chr         start    end      idxStart idxEnd  cluster n   width\n",
       "2237  Ca1         34595038 34598761  753013   753206  18716  194 3724 \n",
       "12360 Ca5          6379137  6380809 3985957  3986077  98628  121 1673 \n",
       "39939 Ca5         22691330 22693397 4310404  4310563 106227  160 2068 \n",
       "24213 scaffold336   410461   411270 8128917  8128982 197702   66  810 \n",
       "17681 Ca6         32880928 32884968 5644767  5644929 137956  163 4041 \n",
       "2249  Ca1         34860534 34863945  759699   759798  18847  100 3412 \n",
       "      invdensity areaStat  maxStat   meanDiff   group1.mean group2.mean\n",
       "2237  19.19588    3353.933 22.164614  0.7840990 0.933519062 0.14942002 \n",
       "12360 13.82645    2504.850 21.681312  0.9255879 0.937526660 0.01193871 \n",
       "39939 12.92500   -2369.658 -4.047978 -0.7184994 0.006044261 0.72454366 \n",
       "24213 12.27273    2198.696 37.302718  0.8486916 0.892943291 0.04425167 \n",
       "17681 24.79141    2138.983 16.213877  0.7328763 0.782158296 0.04928201 \n",
       "2249  34.12000    2044.342 22.144673  0.8791584 0.938785717 0.05962735 \n",
       "      tstat.sd   direction\n",
       "2237  0.04516914 hyper    \n",
       "12360 0.04495044 hyper    \n",
       "39939 0.04614278 hypo     \n",
       "24213 0.02611128 hyper    \n",
       "17681 0.05093546 hyper    \n",
       "2249  0.04186337 hyper    "
      ]
     },
     "metadata": {},
     "output_type": "display_data"
    }
   ],
   "source": [
    "head(DMRs_1vs4)"
   ]
  },
  {
   "cell_type": "markdown",
   "metadata": {},
   "source": [
    "- как считать длину? как заданы границы - [] или [)?\n",
    "  * width - длина\n",
    "- как bsseq выбирал hypo и hyper?\n",
    "- чем отличается start, end от inxStart, idxEnd?"
   ]
  },
  {
   "cell_type": "code",
   "execution_count": 7,
   "metadata": {},
   "outputs": [
    {
     "data": {
      "image/png": "[encoded data removed]",
      "text/plain": [
       "Plot with title \"Histogram of DMRs_1vs4$width\""
      ]
     },
     "metadata": {
      "image/png": {
       "height": 420,
       "width": 420
      }
     },
     "output_type": "display_data"
    }
   ],
   "source": [
    "hist(DMRs_1vs4$width)"
   ]
  },
  {
   "cell_type": "markdown",
   "metadata": {},
   "source": [
    "What is a DMR of length 1?"
   ]
  },
  {
   "cell_type": "code",
   "execution_count": 8,
   "metadata": {},
   "outputs": [
    {
     "data": {
      "image/png": "[encoded data removed]",
      "text/plain": [
       "Plot with title \"Histogram of DMRs_3vs4$width\""
      ]
     },
     "metadata": {
      "image/png": {
       "height": 420,
       "width": 420
      }
     },
     "output_type": "display_data"
    }
   ],
   "source": [
    "hist(DMRs_3vs4$width)"
   ]
  },
  {
   "cell_type": "code",
   "execution_count": 19,
   "metadata": {
    "scrolled": true
   },
   "outputs": [
    {
     "data": {
      "text/html": [
       "<strong>png:</strong> 2"
      ],
      "text/latex": [
       "\\textbf{png:} 2"
      ],
      "text/markdown": [
       "**png:** 2"
      ],
      "text/plain": [
       "png \n",
       "  2 "
      ]
     },
     "metadata": {},
     "output_type": "display_data"
    }
   ],
   "source": [
    "png(filename=\"smoothed_bsseq_1vs4.png\")\n",
    "plotRegion(smoothed_bsseq_1vs4, region=GRanges(seqnames=\"Ca1\", IRanges(6909000,7000000)), col=c(1,1,2,2))\n",
    "dev.off()"
   ]
  },
  {
   "cell_type": "code",
   "execution_count": 14,
   "metadata": {},
   "outputs": [
    {
     "data": {
      "image/png": "[encoded data removed]"
     },
     "metadata": {},
     "output_type": "display_data"
    }
   ],
   "source": [
    "library(\"IRdisplay\")\n",
    "display_png(file=\"D:/current_work/POLY/НИР/bismark/smoothed_bsseq_1vs4.png\")"
   ]
  },
  {
   "cell_type": "markdown",
   "metadata": {},
   "source": [
    "И непонятно, насколько хорошо такое сглаживание?"
   ]
  }
 ],
 "metadata": {
  "kernelspec": {
   "display_name": "R 4.2.1.1",
   "language": "R",
   "name": "r4.2.1.1"
  },
  "language_info": {
   "codemirror_mode": "r",
   "file_extension": ".r",
   "mimetype": "text/x-r-source",
   "name": "R",
   "pygments_lexer": "r",
   "version": "4.2.1"
  }
 },
 "nbformat": 4,
 "nbformat_minor": 4
}
