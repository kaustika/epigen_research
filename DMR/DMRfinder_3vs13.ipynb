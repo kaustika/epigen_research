{
 "cells": [
  {
   "cell_type": "markdown",
   "metadata": {},
   "source": [
    "### Ввод данных\n",
    "Здесь задаются все переменные, касающиеся сравниваемых условий эксперимента:"
   ]
  },
  {
   "cell_type": "code",
   "execution_count": 1,
   "metadata": {},
   "outputs": [],
   "source": [
    "# С этим префиксом будут записываться промежуточные и итоговые файлы\n",
    "name <- '3vs13'\n",
    "\n",
    "# По этому пути будут искаться файлы cov.gz (выходы Bismark):\n",
    "working_dir <- \"D:/current_work/POLY/НИР/bismark/coverage files\" \n",
    "\n",
    "# Названия файлов cov.gz - сначала все репликаты одной группы,\n",
    "# затем все репликаты другой (по 3 в каждой). Групп две - эксперимент и контроль:\n",
    "samples = c(\n",
    "    \"n3_1_1_bismark_bt2_pe.deduplicated.bismark.cov.gz\",\n",
    "    \"n3_2_1_bismark_bt2_pe.deduplicated.bismark.cov.gz\",\n",
    "    \"n3_3_1_bismark_bt2_pe.deduplicated.bismark.cov.gz\",\n",
    "    \n",
    "    \"n13_1_1_bismark_bt2_pe.deduplicated.bismark.cov.gz\",\n",
    "    \"n13_2_1_bismark_bt2_pe.deduplicated.bismark.cov.gz\",\n",
    "    \"n13_3_1_bismark_bt2_pe.deduplicated.bismark.cov.gz\"\n",
    "    )\n",
    "\n",
    "# В том же порядке короткие имена каждого из репликатов:\n",
    "colnames <- c('n3_1','n3_2','n3_3','n13_1', 'n13_2', 'n13_3')"
   ]
  },
  {
   "cell_type": "markdown",
   "metadata": {},
   "source": [
    "---------------------------------------------------------------------------------------------------------------"
   ]
  },
  {
   "cell_type": "code",
   "execution_count": 2,
   "metadata": {},
   "outputs": [
    {
     "data": {
      "text/html": [
       "'R version 4.2.1 (2022-06-23 ucrt)'"
      ],
      "text/latex": [
       "'R version 4.2.1 (2022-06-23 ucrt)'"
      ],
      "text/markdown": [
       "'R version 4.2.1 (2022-06-23 ucrt)'"
      ],
      "text/plain": [
       "[1] \"R version 4.2.1 (2022-06-23 ucrt)\""
      ]
     },
     "metadata": {},
     "output_type": "display_data"
    },
    {
     "name": "stderr",
     "output_type": "stream",
     "text": [
      "Загрузка требуемого пакета: BiocGenerics\n",
      "\n",
      "\n",
      "Присоединяю пакет: 'BiocGenerics'\n",
      "\n",
      "\n",
      "Следующие объекты скрыты от 'package:stats':\n",
      "\n",
      "    IQR, mad, sd, var, xtabs\n",
      "\n",
      "\n",
      "Следующие объекты скрыты от 'package:base':\n",
      "\n",
      "    anyDuplicated, append, as.data.frame, basename, cbind, colnames,\n",
      "    dirname, do.call, duplicated, eval, evalq, Filter, Find, get, grep,\n",
      "    grepl, intersect, is.unsorted, lapply, Map, mapply, match, mget,\n",
      "    order, paste, pmax, pmax.int, pmin, pmin.int, Position, rank,\n",
      "    rbind, Reduce, rownames, sapply, setdiff, sort, table, tapply,\n",
      "    union, unique, unsplit, which.max, which.min\n",
      "\n",
      "\n",
      "Загрузка требуемого пакета: GenomicRanges\n",
      "\n",
      "Загрузка требуемого пакета: stats4\n",
      "\n",
      "Загрузка требуемого пакета: S4Vectors\n",
      "\n",
      "\n",
      "Присоединяю пакет: 'S4Vectors'\n",
      "\n",
      "\n",
      "Следующие объекты скрыты от 'package:base':\n",
      "\n",
      "    expand.grid, I, unname\n",
      "\n",
      "\n",
      "Загрузка требуемого пакета: IRanges\n",
      "\n",
      "\n",
      "Присоединяю пакет: 'IRanges'\n",
      "\n",
      "\n",
      "Следующий объект скрыт от 'package:grDevices':\n",
      "\n",
      "    windows\n",
      "\n",
      "\n",
      "Загрузка требуемого пакета: GenomeInfoDb\n",
      "\n",
      "Загрузка требуемого пакета: SummarizedExperiment\n",
      "\n",
      "Загрузка требуемого пакета: MatrixGenerics\n",
      "\n",
      "Загрузка требуемого пакета: matrixStats\n",
      "\n",
      "\n",
      "Присоединяю пакет: 'MatrixGenerics'\n",
      "\n",
      "\n",
      "Следующие объекты скрыты от 'package:matrixStats':\n",
      "\n",
      "    colAlls, colAnyNAs, colAnys, colAvgsPerRowSet, colCollapse,\n",
      "    colCounts, colCummaxs, colCummins, colCumprods, colCumsums,\n",
      "    colDiffs, colIQRDiffs, colIQRs, colLogSumExps, colMadDiffs,\n",
      "    colMads, colMaxs, colMeans2, colMedians, colMins, colOrderStats,\n",
      "    colProds, colQuantiles, colRanges, colRanks, colSdDiffs, colSds,\n",
      "    colSums2, colTabulates, colVarDiffs, colVars, colWeightedMads,\n",
      "    colWeightedMeans, colWeightedMedians, colWeightedSds,\n",
      "    colWeightedVars, rowAlls, rowAnyNAs, rowAnys, rowAvgsPerColSet,\n",
      "    rowCollapse, rowCounts, rowCummaxs, rowCummins, rowCumprods,\n",
      "    rowCumsums, rowDiffs, rowIQRDiffs, rowIQRs, rowLogSumExps,\n",
      "    rowMadDiffs, rowMads, rowMaxs, rowMeans2, rowMedians, rowMins,\n",
      "    rowOrderStats, rowProds, rowQuantiles, rowRanges, rowRanks,\n",
      "    rowSdDiffs, rowSds, rowSums2, rowTabulates, rowVarDiffs, rowVars,\n",
      "    rowWeightedMads, rowWeightedMeans, rowWeightedMedians,\n",
      "    rowWeightedSds, rowWeightedVars\n",
      "\n",
      "\n",
      "Загрузка требуемого пакета: Biobase\n",
      "\n",
      "Welcome to Bioconductor\n",
      "\n",
      "    Vignettes contain introductory material; view with\n",
      "    'browseVignettes()'. To cite Bioconductor, see\n",
      "    'citation(\"Biobase\")', and for packages 'citation(\"pkgname\")'.\n",
      "\n",
      "\n",
      "\n",
      "Присоединяю пакет: 'Biobase'\n",
      "\n",
      "\n",
      "Следующий объект скрыт от 'package:MatrixGenerics':\n",
      "\n",
      "    rowMedians\n",
      "\n",
      "\n",
      "Следующие объекты скрыты от 'package:matrixStats':\n",
      "\n",
      "    anyMissing, rowMedians\n",
      "\n",
      "\n"
     ]
    }
   ],
   "source": [
    "R.Version()$version.string\n",
    "library(bsseq)"
   ]
  },
  {
   "cell_type": "markdown",
   "metadata": {},
   "source": [
    "Сделаем рабочей директорию с cov-файлами, которые получили в результате работы Bismark:"
   ]
  },
  {
   "cell_type": "code",
   "execution_count": 3,
   "metadata": {},
   "outputs": [],
   "source": [
    "setwd(working_dir)"
   ]
  },
  {
   "cell_type": "markdown",
   "metadata": {},
   "source": [
    "В этом исследовании мы работаем с данными бисульфитного секвенирования двух диких сортов, одного элитного сорта и их потомков:\n",
    "\n",
    "| BS  | WGS   | Accession name | Тип генотипа |\n",
    "| --- |:-----:|:--------------:|-------------:|\n",
    "| n1  | d_1   | TR83005        | Дикий вид, Kalkan_064 |\n",
    "| n3  | d_3   | TR83052        | Дикий вид , Derei_070 |\n",
    "| n4  | n-308 | ICCV96029      | Элитный сорт |\n",
    "| n9  | n-196 | 630062         | ICCV96029_x_Kalka064_01859_F2 |\n",
    "| n10 | n-206 | 630072         | ICCV96029_x_Kalka064_01905_F2 |\n",
    "| n11 | n-125 | 629993         | ICCV96029_x_Derei070_01239_F2 |\n",
    "| n12 | n-128 | 629996         | ICCV96029_x_Derei070_01244_F2 |\n",
    "| n13 | n-129 | 629997         | ICCV96029_x_Derei070_01244_F2 |\n",
    "| n14 | n-130 | 629998         | ICCV96029_x_Derei070_01250_F2 |\n",
    "| n17 | n-200 | 630066         | ICCV96029_x_Kalka064_01877_F2 |\n"
   ]
  },
  {
   "cell_type": "markdown",
   "metadata": {},
   "source": [
    "Для каждого сорта имеем по три биологических репликата, что обозначается так: n<номер сорта>_<номер репликата>. То есть, n4_2 соответствует второму репликату сорта 4, который, как видим по табличке сверху, является элитным.\n",
    "\n",
    "Замечу, что постфикс _1 в названии выходных файлов Bismark не имеет смысловой нагрузки, такое имя было выбрано программой автоматически при обработке парных ридов."
   ]
  },
  {
   "cell_type": "markdown",
   "metadata": {},
   "source": [
    "Многие операции выполняются долго, поэтому для более быстрого страрта при перезапуске jupyter notebook'а я сохраняю промежуточные результаты в бинарные файлы с расширением .rds, их можно потом прочитать прямо стурктуру данных языка R, аналогичную той, из которой они были созданы.\n",
    "\n",
    "После записи промежуточных файлов код клеток с долго выполняющимися операциями может быть закомментирован. Если Вы хотите перезаписать запомненные файлы, то раскомментируйте код, выделив и нажав ctrl+/, и запустите её. Такие клетки я помечу \"TIME CONSUMING\""
   ]
  },
  {
   "cell_type": "markdown",
   "metadata": {},
   "source": [
    "# Загружаем bismark.cov.gz данные о покрытии для обработки библиотекой bsseq"
   ]
  },
  {
   "cell_type": "code",
   "execution_count": 4,
   "metadata": {},
   "outputs": [],
   "source": [
    "# TIME CONSUMING\n",
    "\n",
    "bsseq <- bsseq::read.bismark(samples)\n",
    "colnames(bsseq) <- colnames\n",
    "\n",
    "saveRDS(bsseq, paste(name, \"_bsseq.rds\", sep=\"\")) "
   ]
  },
  {
   "cell_type": "code",
   "execution_count": 4,
   "metadata": {},
   "outputs": [],
   "source": [
    "bsseq = readRDS(paste(name, \"_bsseq.rds\", sep=\"\"))"
   ]
  },
  {
   "cell_type": "markdown",
   "metadata": {},
   "source": [
    "# Поиск DMR с использованием сглаживающего алгоритма BSmooth в bsseq"
   ]
  },
  {
   "cell_type": "code",
   "execution_count": 6,
   "metadata": {},
   "outputs": [],
   "source": [
    "# TIME CONSUMING\n",
    "\n",
    "smoothed_bsseq = BSmooth(bsseq, h=2000)\n",
    "\n",
    "saveRDS(smoothed_bsseq, paste(name, \"_smoothed_bsseq.rds\", sep=\"\"))"
   ]
  },
  {
   "cell_type": "code",
   "execution_count": 5,
   "metadata": {},
   "outputs": [],
   "source": [
    "smoothed_bsseq = readRDS(paste(name, \"_smoothed_bsseq.rds\", sep=\"\"))"
   ]
  },
  {
   "cell_type": "code",
   "execution_count": 6,
   "metadata": {},
   "outputs": [],
   "source": [
    "bsseq_cov <- getCoverage(smoothed_bsseq)"
   ]
  },
  {
   "cell_type": "code",
   "execution_count": 7,
   "metadata": {},
   "outputs": [],
   "source": [
    "Type <- c(\"group1\", \"group1\", \"group1\", \"group2\", \"group2\", \"group2\")\n",
    "df <- data.frame(Type)\n",
    "row.names(df) <- colnames\n",
    "pData(bsseq) <- df"
   ]
  },
  {
   "cell_type": "code",
   "execution_count": 8,
   "metadata": {},
   "outputs": [],
   "source": [
    "loci_to_keep <- which(rowSums(bsseq_cov[, bsseq$Type == \"group1\"] >= 2) >= 2 &\n",
    "                     rowSums(bsseq_cov[, bsseq$Type == \"group2\"] >= 2) >= 2)"
   ]
  },
  {
   "cell_type": "code",
   "execution_count": 9,
   "metadata": {},
   "outputs": [
    {
     "data": {
      "text/html": [
       "6222538"
      ],
      "text/latex": [
       "6222538"
      ],
      "text/markdown": [
       "6222538"
      ],
      "text/plain": [
       "[1] 6222538"
      ]
     },
     "metadata": {},
     "output_type": "display_data"
    },
    {
     "data": {
      "text/html": [
       "8422253"
      ],
      "text/latex": [
       "8422253"
      ],
      "text/markdown": [
       "8422253"
      ],
      "text/plain": [
       "[1] 8422253"
      ]
     },
     "metadata": {},
     "output_type": "display_data"
    }
   ],
   "source": [
    "length(loci_to_keep)\n",
    "length(bsseq)"
   ]
  },
  {
   "cell_type": "code",
   "execution_count": 10,
   "metadata": {},
   "outputs": [],
   "source": [
    "smoothed_bsseq <- smoothed_bsseq[loci_to_keep,]"
   ]
  },
  {
   "cell_type": "code",
   "execution_count": 11,
   "metadata": {},
   "outputs": [
    {
     "name": "stdout",
     "output_type": "stream",
     "text": [
      "[BSmooth.tstat] preprocessing ... done in 8.4 sec\n",
      "[BSmooth.tstat] computing stats within groups ... done in 5.6 sec\n",
      "[BSmooth.tstat] computing stats across groups ... done in 18.0 sec\n"
     ]
    }
   ],
   "source": [
    "t_test_smoothed_bsseq = BSmooth.tstat(smoothed_bsseq, colnames[c(1, 2, 3)], colnames[c(4, 5, 6)])\n",
    "stats_t_test = getStats(t_test_smoothed_bsseq)"
   ]
  },
  {
   "cell_type": "code",
   "execution_count": 12,
   "metadata": {},
   "outputs": [
    {
     "name": "stdout",
     "output_type": "stream",
     "text": [
      "[dmrFinder] creating dmr data.frame\n"
     ]
    }
   ],
   "source": [
    "ps <- getStats(t_test_smoothed_bsseq)[,\"tstat.corrected\"]\n",
    "\n",
    "DMRs = dmrFinder(t_test_smoothed_bsseq,cutoff = c(quantile(ps, 0.005), quantile(ps, 0.995)))"
   ]
  },
  {
   "cell_type": "markdown",
   "metadata": {},
   "source": [
    "We rank DMRs by the column areaStat which is the sum of the t-statistics in each CpG. This is kind of the area of the DMR, except that it is weighted by the number of CpGs and not by genomic length. This is currently the best statistic we know, although it is far from perfect (we would like to do something better)."
   ]
  },
  {
   "cell_type": "markdown",
   "metadata": {},
   "source": [
    "Here, we filter out DMRs that do not have at least 3 CpGs in them and at least a mean difference (across the DMR) in methylation between normal and cancers of at least 0.1. While the exact values of these two filters can be debated, it is surely a good idea to use something like this.\n"
   ]
  },
  {
   "cell_type": "code",
   "execution_count": 13,
   "metadata": {},
   "outputs": [
    {
     "data": {
      "text/html": [
       "<style>\n",
       ".list-inline {list-style: none; margin:0; padding: 0}\n",
       ".list-inline>li {display: inline-block}\n",
       ".list-inline>li:not(:last-child)::after {content: \"\\00b7\"; padding: 0 .5ex}\n",
       "</style>\n",
       "<ol class=list-inline><li>5465</li><li>16</li></ol>\n"
      ],
      "text/latex": [
       "\\begin{enumerate*}\n",
       "\\item 5465\n",
       "\\item 16\n",
       "\\end{enumerate*}\n"
      ],
      "text/markdown": [
       "1. 5465\n",
       "2. 16\n",
       "\n",
       "\n"
      ],
      "text/plain": [
       "[1] 5465   16"
      ]
     },
     "metadata": {},
     "output_type": "display_data"
    }
   ],
   "source": [
    "DMRs <- subset(DMRs, n >= 3 & abs(meanDiff) >= 0.1)\n",
    "dim(DMRs)"
   ]
  },
  {
   "cell_type": "code",
   "execution_count": 16,
   "metadata": {},
   "outputs": [
    {
     "data": {
      "text/plain": [
       "DataFrame with 6 rows and 2 columns\n",
       "             Type         col\n",
       "      <character> <character>\n",
       "n3_1       group1         red\n",
       "n3_2       group1         red\n",
       "n3_3       group1         red\n",
       "n13_1      group2        blue\n",
       "n13_2      group2        blue\n",
       "n13_3      group2        blue"
      ]
     },
     "metadata": {},
     "output_type": "display_data"
    }
   ],
   "source": [
    "pData <- pData(bsseq)\n",
    "pData$col <- rep(c(\"red\", \"blue\"), each = 3)\n",
    "pData(bsseq) <- pData\n",
    "pData(bsseq)"
   ]
  },
  {
   "cell_type": "code",
   "execution_count": 17,
   "metadata": {},
   "outputs": [
    {
     "name": "stdout",
     "output_type": "stream",
     "text": [
      "[plotManyRegions] preprocessing ...done\n",
      "[plotManyRegions]   plotting region 1 (out of 10)\n",
      "[plotManyRegions]   plotting region 2 (out of 10)\n",
      "[plotManyRegions]   plotting region 3 (out of 10)\n",
      "[plotManyRegions]   plotting region 4 (out of 10)\n",
      "[plotManyRegions]   plotting region 5 (out of 10)\n",
      "[plotManyRegions]   plotting region 6 (out of 10)\n",
      "[plotManyRegions]   plotting region 7 (out of 10)\n",
      "[plotManyRegions]   plotting region 8 (out of 10)\n",
      "[plotManyRegions]   plotting region 9 (out of 10)\n",
      "[plotManyRegions]   plotting region 10 (out of 10)\n"
     ]
    },
    {
     "data": {
      "text/html": [
       "<strong>png:</strong> 2"
      ],
      "text/latex": [
       "\\textbf{png:} 2"
      ],
      "text/markdown": [
       "**png:** 2"
      ],
      "text/plain": [
       "png \n",
       "  2 "
      ]
     },
     "metadata": {},
     "output_type": "display_data"
    }
   ],
   "source": [
    "#range.dmr = data.frame(DMRs$start, DMRs$end, DMRs$chr)\n",
    "#names(range.dmr) = c(\"start\", \"end\", \"chr\")\n",
    "pdf(file=paste(name, \"_dmrs_top10.pdf\", sep=\"\"), width = 10, height = 5)\n",
    "par(ask=T)\n",
    "\n",
    "plotManyRegions(smoothed_bsseq, DMRs[1:10,], col=pData$col, extend = 5000, addRegions = DMRs)\n",
    "dev.off()"
   ]
  },
  {
   "cell_type": "code",
   "execution_count": 18,
   "metadata": {},
   "outputs": [
    {
     "data": {
      "text/html": [
       "<style>\n",
       ".list-inline {list-style: none; margin:0; padding: 0}\n",
       ".list-inline>li {display: inline-block}\n",
       ".list-inline>li:not(:last-child)::after {content: \"\\00b7\"; padding: 0 .5ex}\n",
       "</style>\n",
       "<ol class=list-inline><li>28</li><li>16</li></ol>\n"
      ],
      "text/latex": [
       "\\begin{enumerate*}\n",
       "\\item 28\n",
       "\\item 16\n",
       "\\end{enumerate*}\n"
      ],
      "text/markdown": [
       "1. 28\n",
       "2. 16\n",
       "\n",
       "\n"
      ],
      "text/plain": [
       "[1] 28 16"
      ]
     },
     "metadata": {},
     "output_type": "display_data"
    }
   ],
   "source": [
    "DMRs_filtered_by_width <- DMRs[DMRs$width > quantile(DMRs$width, 0.995), ]\n",
    "dim(DMRs_filtered_by_width)"
   ]
  },
  {
   "cell_type": "code",
   "execution_count": 19,
   "metadata": {},
   "outputs": [
    {
     "name": "stdout",
     "output_type": "stream",
     "text": [
      "[plotManyRegions] preprocessing ...done\n",
      "[plotManyRegions]   plotting region 1 (out of 28)\n",
      "[plotManyRegions]   plotting region 2 (out of 28)\n",
      "[plotManyRegions]   plotting region 3 (out of 28)\n",
      "[plotManyRegions]   plotting region 4 (out of 28)\n",
      "[plotManyRegions]   plotting region 5 (out of 28)\n",
      "[plotManyRegions]   plotting region 6 (out of 28)\n",
      "[plotManyRegions]   plotting region 7 (out of 28)\n",
      "[plotManyRegions]   plotting region 8 (out of 28)\n",
      "[plotManyRegions]   plotting region 9 (out of 28)\n",
      "[plotManyRegions]   plotting region 10 (out of 28)\n",
      "[plotManyRegions]   plotting region 11 (out of 28)\n",
      "[plotManyRegions]   plotting region 12 (out of 28)\n",
      "[plotManyRegions]   plotting region 13 (out of 28)\n",
      "[plotManyRegions]   plotting region 14 (out of 28)\n",
      "[plotManyRegions]   plotting region 15 (out of 28)\n",
      "[plotManyRegions]   plotting region 16 (out of 28)\n",
      "[plotManyRegions]   plotting region 17 (out of 28)\n",
      "[plotManyRegions]   plotting region 18 (out of 28)\n",
      "[plotManyRegions]   plotting region 19 (out of 28)\n",
      "[plotManyRegions]   plotting region 20 (out of 28)\n",
      "[plotManyRegions]   plotting region 21 (out of 28)\n",
      "[plotManyRegions]   plotting region 22 (out of 28)\n",
      "[plotManyRegions]   plotting region 23 (out of 28)\n",
      "[plotManyRegions]   plotting region 24 (out of 28)\n",
      "[plotManyRegions]   plotting region 25 (out of 28)\n",
      "[plotManyRegions]   plotting region 26 (out of 28)\n",
      "[plotManyRegions]   plotting region 27 (out of 28)\n",
      "[plotManyRegions]   plotting region 28 (out of 28)\n"
     ]
    },
    {
     "data": {
      "text/html": [
       "<strong>png:</strong> 2"
      ],
      "text/latex": [
       "\\textbf{png:} 2"
      ],
      "text/markdown": [
       "**png:** 2"
      ],
      "text/plain": [
       "png \n",
       "  2 "
      ]
     },
     "metadata": {},
     "output_type": "display_data"
    }
   ],
   "source": [
    "pdf(file=paste(name, \"_dmrs_top_wide.pdf\", sep=\"\"), width = 10, height = 5)\n",
    "par(ask=T)\n",
    "\n",
    "plotManyRegions(smoothed_bsseq, DMRs_filtered_by_width, col=pData$col, extend = 5000, addRegions = DMRs)\n",
    "dev.off()"
   ]
  },
  {
   "cell_type": "code",
   "execution_count": 20,
   "metadata": {},
   "outputs": [],
   "source": [
    "write.csv(DMRs_filtered_by_width, paste(name, \"_dmrs_top_wide.csv\", sep=\"\"), row.names = FALSE)"
   ]
  },
  {
   "cell_type": "code",
   "execution_count": 14,
   "metadata": {},
   "outputs": [],
   "source": [
    "write.csv(DMRs, paste(name, \"_dmrs_all.csv\", sep=\"\"), row.names = FALSE)"
   ]
  },
  {
   "cell_type": "code",
   "execution_count": null,
   "metadata": {},
   "outputs": [],
   "source": []
  }
 ],
 "metadata": {
  "kernelspec": {
   "display_name": "R 4.2.1.1",
   "language": "R",
   "name": "r4.2.1.1"
  },
  "language_info": {
   "codemirror_mode": "r",
   "file_extension": ".r",
   "mimetype": "text/x-r-source",
   "name": "R",
   "pygments_lexer": "r",
   "version": "4.2.1"
  }
 },
 "nbformat": 4,
 "nbformat_minor": 4
}
